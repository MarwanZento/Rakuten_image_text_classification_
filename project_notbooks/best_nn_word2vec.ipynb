{
  "nbformat": 4,
  "nbformat_minor": 0,
  "metadata": {
    "colab": {
      "provenance": []
    },
    "kernelspec": {
      "name": "python3",
      "display_name": "Python 3"
    },
    "language_info": {
      "name": "python"
    }
  },
  "cells": [
    {
      "cell_type": "code",
      "execution_count": null,
      "metadata": {
        "id": "dEhHdcHJlaGa"
      },
      "outputs": [],
      "source": [
        "import pandas as pd\n",
        "import numpy as np\n",
        "import string\n",
        "from nltk.corpus import stopwords\n",
        "from nltk.tokenize import word_tokenize\n",
        "from gensim.models import Word2Vec\n",
        "from tensorflow.keras.preprocessing.text import Tokenizer\n",
        "from tensorflow.keras.preprocessing.sequence import pad_sequences\n",
        "from tensorflow.keras.layers import Embedding, Conv1D, MaxPooling1D, Flatten, Dense, Dropout\n",
        "from tensorflow.keras.models import Sequential\n",
        "from sklearn.model_selection import train_test_split"
      ]
    },
    {
      "cell_type": "code",
      "source": [
        "import pyarrow.parquet as pq\n",
        "table= pq.read_table('/content/df_final.parquet')\n",
        "df = table.to_pandas()"
      ],
      "metadata": {
        "id": "iZnu-9NCldMS"
      },
      "execution_count": null,
      "outputs": []
    },
    {
      "cell_type": "code",
      "source": [
        "df.head()"
      ],
      "metadata": {
        "colab": {
          "base_uri": "https://localhost:8080/",
          "height": 206
        },
        "id": "AciJanJAldPq",
        "outputId": "1e34c24b-fccf-476a-c970-0c5f7fd23257"
      },
      "execution_count": null,
      "outputs": [
        {
          "output_type": "execute_result",
          "data": {
            "text/plain": [
              "   prdtypecode            product_class  \\\n",
              "0           10            livres_adulte   \n",
              "1         2280                magazines   \n",
              "2           50  accessoires_jeux_videos   \n",
              "3         1280           jouets_enfance   \n",
              "4         2705      livres_et_illustres   \n",
              "\n",
              "                                         merged_text  \\\n",
              "0  Olivia: Personalisiertes Notizbuch / 150 Seite...   \n",
              "1  Journal Des Arts (Le) N° 133 Du 28/09/2001 - L...   \n",
              "2  Grand Stylet Ergonomique Bleu Gamepad Nintendo...   \n",
              "3  Peluche Donald - Europe - Disneyland 2000 (Mar...   \n",
              "4  La Guerre Des Tuques Luc a des id&eacute;es de...   \n",
              "\n",
              "                            merged_imageid  \n",
              "0  image_1263597046_product_3804725264.jpg  \n",
              "1   image_1008141237_product_436067568.jpg  \n",
              "2    image_938777978_product_201115110.jpg  \n",
              "3     image_457047496_product_50418756.jpg  \n",
              "4   image_1077757786_product_278535884.jpg  "
            ],
            "text/html": [
              "\n",
              "  <div id=\"df-a1944d79-9114-4743-9d99-a95cecfecf96\" class=\"colab-df-container\">\n",
              "    <div>\n",
              "<style scoped>\n",
              "    .dataframe tbody tr th:only-of-type {\n",
              "        vertical-align: middle;\n",
              "    }\n",
              "\n",
              "    .dataframe tbody tr th {\n",
              "        vertical-align: top;\n",
              "    }\n",
              "\n",
              "    .dataframe thead th {\n",
              "        text-align: right;\n",
              "    }\n",
              "</style>\n",
              "<table border=\"1\" class=\"dataframe\">\n",
              "  <thead>\n",
              "    <tr style=\"text-align: right;\">\n",
              "      <th></th>\n",
              "      <th>prdtypecode</th>\n",
              "      <th>product_class</th>\n",
              "      <th>merged_text</th>\n",
              "      <th>merged_imageid</th>\n",
              "    </tr>\n",
              "  </thead>\n",
              "  <tbody>\n",
              "    <tr>\n",
              "      <th>0</th>\n",
              "      <td>10</td>\n",
              "      <td>livres_adulte</td>\n",
              "      <td>Olivia: Personalisiertes Notizbuch / 150 Seite...</td>\n",
              "      <td>image_1263597046_product_3804725264.jpg</td>\n",
              "    </tr>\n",
              "    <tr>\n",
              "      <th>1</th>\n",
              "      <td>2280</td>\n",
              "      <td>magazines</td>\n",
              "      <td>Journal Des Arts (Le) N° 133 Du 28/09/2001 - L...</td>\n",
              "      <td>image_1008141237_product_436067568.jpg</td>\n",
              "    </tr>\n",
              "    <tr>\n",
              "      <th>2</th>\n",
              "      <td>50</td>\n",
              "      <td>accessoires_jeux_videos</td>\n",
              "      <td>Grand Stylet Ergonomique Bleu Gamepad Nintendo...</td>\n",
              "      <td>image_938777978_product_201115110.jpg</td>\n",
              "    </tr>\n",
              "    <tr>\n",
              "      <th>3</th>\n",
              "      <td>1280</td>\n",
              "      <td>jouets_enfance</td>\n",
              "      <td>Peluche Donald - Europe - Disneyland 2000 (Mar...</td>\n",
              "      <td>image_457047496_product_50418756.jpg</td>\n",
              "    </tr>\n",
              "    <tr>\n",
              "      <th>4</th>\n",
              "      <td>2705</td>\n",
              "      <td>livres_et_illustres</td>\n",
              "      <td>La Guerre Des Tuques Luc a des id&amp;eacute;es de...</td>\n",
              "      <td>image_1077757786_product_278535884.jpg</td>\n",
              "    </tr>\n",
              "  </tbody>\n",
              "</table>\n",
              "</div>\n",
              "    <div class=\"colab-df-buttons\">\n",
              "\n",
              "  <div class=\"colab-df-container\">\n",
              "    <button class=\"colab-df-convert\" onclick=\"convertToInteractive('df-a1944d79-9114-4743-9d99-a95cecfecf96')\"\n",
              "            title=\"Convert this dataframe to an interactive table.\"\n",
              "            style=\"display:none;\">\n",
              "\n",
              "  <svg xmlns=\"http://www.w3.org/2000/svg\" height=\"24px\" viewBox=\"0 -960 960 960\">\n",
              "    <path d=\"M120-120v-720h720v720H120Zm60-500h600v-160H180v160Zm220 220h160v-160H400v160Zm0 220h160v-160H400v160ZM180-400h160v-160H180v160Zm440 0h160v-160H620v160ZM180-180h160v-160H180v160Zm440 0h160v-160H620v160Z\"/>\n",
              "  </svg>\n",
              "    </button>\n",
              "\n",
              "  <style>\n",
              "    .colab-df-container {\n",
              "      display:flex;\n",
              "      gap: 12px;\n",
              "    }\n",
              "\n",
              "    .colab-df-convert {\n",
              "      background-color: #E8F0FE;\n",
              "      border: none;\n",
              "      border-radius: 50%;\n",
              "      cursor: pointer;\n",
              "      display: none;\n",
              "      fill: #1967D2;\n",
              "      height: 32px;\n",
              "      padding: 0 0 0 0;\n",
              "      width: 32px;\n",
              "    }\n",
              "\n",
              "    .colab-df-convert:hover {\n",
              "      background-color: #E2EBFA;\n",
              "      box-shadow: 0px 1px 2px rgba(60, 64, 67, 0.3), 0px 1px 3px 1px rgba(60, 64, 67, 0.15);\n",
              "      fill: #174EA6;\n",
              "    }\n",
              "\n",
              "    .colab-df-buttons div {\n",
              "      margin-bottom: 4px;\n",
              "    }\n",
              "\n",
              "    [theme=dark] .colab-df-convert {\n",
              "      background-color: #3B4455;\n",
              "      fill: #D2E3FC;\n",
              "    }\n",
              "\n",
              "    [theme=dark] .colab-df-convert:hover {\n",
              "      background-color: #434B5C;\n",
              "      box-shadow: 0px 1px 3px 1px rgba(0, 0, 0, 0.15);\n",
              "      filter: drop-shadow(0px 1px 2px rgba(0, 0, 0, 0.3));\n",
              "      fill: #FFFFFF;\n",
              "    }\n",
              "  </style>\n",
              "\n",
              "    <script>\n",
              "      const buttonEl =\n",
              "        document.querySelector('#df-a1944d79-9114-4743-9d99-a95cecfecf96 button.colab-df-convert');\n",
              "      buttonEl.style.display =\n",
              "        google.colab.kernel.accessAllowed ? 'block' : 'none';\n",
              "\n",
              "      async function convertToInteractive(key) {\n",
              "        const element = document.querySelector('#df-a1944d79-9114-4743-9d99-a95cecfecf96');\n",
              "        const dataTable =\n",
              "          await google.colab.kernel.invokeFunction('convertToInteractive',\n",
              "                                                    [key], {});\n",
              "        if (!dataTable) return;\n",
              "\n",
              "        const docLinkHtml = 'Like what you see? Visit the ' +\n",
              "          '<a target=\"_blank\" href=https://colab.research.google.com/notebooks/data_table.ipynb>data table notebook</a>'\n",
              "          + ' to learn more about interactive tables.';\n",
              "        element.innerHTML = '';\n",
              "        dataTable['output_type'] = 'display_data';\n",
              "        await google.colab.output.renderOutput(dataTable, element);\n",
              "        const docLink = document.createElement('div');\n",
              "        docLink.innerHTML = docLinkHtml;\n",
              "        element.appendChild(docLink);\n",
              "      }\n",
              "    </script>\n",
              "  </div>\n",
              "\n",
              "\n",
              "<div id=\"df-290dc613-fc41-430d-981a-8dcf02cfb7d7\">\n",
              "  <button class=\"colab-df-quickchart\" onclick=\"quickchart('df-290dc613-fc41-430d-981a-8dcf02cfb7d7')\"\n",
              "            title=\"Suggest charts.\"\n",
              "            style=\"display:none;\">\n",
              "\n",
              "<svg xmlns=\"http://www.w3.org/2000/svg\" height=\"24px\"viewBox=\"0 0 24 24\"\n",
              "     width=\"24px\">\n",
              "    <g>\n",
              "        <path d=\"M19 3H5c-1.1 0-2 .9-2 2v14c0 1.1.9 2 2 2h14c1.1 0 2-.9 2-2V5c0-1.1-.9-2-2-2zM9 17H7v-7h2v7zm4 0h-2V7h2v10zm4 0h-2v-4h2v4z\"/>\n",
              "    </g>\n",
              "</svg>\n",
              "  </button>\n",
              "\n",
              "<style>\n",
              "  .colab-df-quickchart {\n",
              "      --bg-color: #E8F0FE;\n",
              "      --fill-color: #1967D2;\n",
              "      --hover-bg-color: #E2EBFA;\n",
              "      --hover-fill-color: #174EA6;\n",
              "      --disabled-fill-color: #AAA;\n",
              "      --disabled-bg-color: #DDD;\n",
              "  }\n",
              "\n",
              "  [theme=dark] .colab-df-quickchart {\n",
              "      --bg-color: #3B4455;\n",
              "      --fill-color: #D2E3FC;\n",
              "      --hover-bg-color: #434B5C;\n",
              "      --hover-fill-color: #FFFFFF;\n",
              "      --disabled-bg-color: #3B4455;\n",
              "      --disabled-fill-color: #666;\n",
              "  }\n",
              "\n",
              "  .colab-df-quickchart {\n",
              "    background-color: var(--bg-color);\n",
              "    border: none;\n",
              "    border-radius: 50%;\n",
              "    cursor: pointer;\n",
              "    display: none;\n",
              "    fill: var(--fill-color);\n",
              "    height: 32px;\n",
              "    padding: 0;\n",
              "    width: 32px;\n",
              "  }\n",
              "\n",
              "  .colab-df-quickchart:hover {\n",
              "    background-color: var(--hover-bg-color);\n",
              "    box-shadow: 0 1px 2px rgba(60, 64, 67, 0.3), 0 1px 3px 1px rgba(60, 64, 67, 0.15);\n",
              "    fill: var(--button-hover-fill-color);\n",
              "  }\n",
              "\n",
              "  .colab-df-quickchart-complete:disabled,\n",
              "  .colab-df-quickchart-complete:disabled:hover {\n",
              "    background-color: var(--disabled-bg-color);\n",
              "    fill: var(--disabled-fill-color);\n",
              "    box-shadow: none;\n",
              "  }\n",
              "\n",
              "  .colab-df-spinner {\n",
              "    border: 2px solid var(--fill-color);\n",
              "    border-color: transparent;\n",
              "    border-bottom-color: var(--fill-color);\n",
              "    animation:\n",
              "      spin 1s steps(1) infinite;\n",
              "  }\n",
              "\n",
              "  @keyframes spin {\n",
              "    0% {\n",
              "      border-color: transparent;\n",
              "      border-bottom-color: var(--fill-color);\n",
              "      border-left-color: var(--fill-color);\n",
              "    }\n",
              "    20% {\n",
              "      border-color: transparent;\n",
              "      border-left-color: var(--fill-color);\n",
              "      border-top-color: var(--fill-color);\n",
              "    }\n",
              "    30% {\n",
              "      border-color: transparent;\n",
              "      border-left-color: var(--fill-color);\n",
              "      border-top-color: var(--fill-color);\n",
              "      border-right-color: var(--fill-color);\n",
              "    }\n",
              "    40% {\n",
              "      border-color: transparent;\n",
              "      border-right-color: var(--fill-color);\n",
              "      border-top-color: var(--fill-color);\n",
              "    }\n",
              "    60% {\n",
              "      border-color: transparent;\n",
              "      border-right-color: var(--fill-color);\n",
              "    }\n",
              "    80% {\n",
              "      border-color: transparent;\n",
              "      border-right-color: var(--fill-color);\n",
              "      border-bottom-color: var(--fill-color);\n",
              "    }\n",
              "    90% {\n",
              "      border-color: transparent;\n",
              "      border-bottom-color: var(--fill-color);\n",
              "    }\n",
              "  }\n",
              "</style>\n",
              "\n",
              "  <script>\n",
              "    async function quickchart(key) {\n",
              "      const quickchartButtonEl =\n",
              "        document.querySelector('#' + key + ' button');\n",
              "      quickchartButtonEl.disabled = true;  // To prevent multiple clicks.\n",
              "      quickchartButtonEl.classList.add('colab-df-spinner');\n",
              "      try {\n",
              "        const charts = await google.colab.kernel.invokeFunction(\n",
              "            'suggestCharts', [key], {});\n",
              "      } catch (error) {\n",
              "        console.error('Error during call to suggestCharts:', error);\n",
              "      }\n",
              "      quickchartButtonEl.classList.remove('colab-df-spinner');\n",
              "      quickchartButtonEl.classList.add('colab-df-quickchart-complete');\n",
              "    }\n",
              "    (() => {\n",
              "      let quickchartButtonEl =\n",
              "        document.querySelector('#df-290dc613-fc41-430d-981a-8dcf02cfb7d7 button');\n",
              "      quickchartButtonEl.style.display =\n",
              "        google.colab.kernel.accessAllowed ? 'block' : 'none';\n",
              "    })();\n",
              "  </script>\n",
              "</div>\n",
              "    </div>\n",
              "  </div>\n"
            ]
          },
          "metadata": {},
          "execution_count": 90
        }
      ]
    },
    {
      "cell_type": "code",
      "source": [
        "import nltk\n",
        "\n",
        "nltk.download('punkt')\n",
        "nltk.download('wordnet')\n",
        "nltk.download('stopwords')\n",
        "nltk.download('floresta')"
      ],
      "metadata": {
        "colab": {
          "base_uri": "https://localhost:8080/"
        },
        "id": "BEVqdSSMldSW",
        "outputId": "2df93fd4-20fe-4dd5-fce1-78e3b89fddd3"
      },
      "execution_count": null,
      "outputs": [
        {
          "output_type": "stream",
          "name": "stderr",
          "text": [
            "[nltk_data] Downloading package punkt to /root/nltk_data...\n",
            "[nltk_data]   Package punkt is already up-to-date!\n",
            "[nltk_data] Downloading package wordnet to /root/nltk_data...\n",
            "[nltk_data]   Package wordnet is already up-to-date!\n",
            "[nltk_data] Downloading package stopwords to /root/nltk_data...\n",
            "[nltk_data]   Package stopwords is already up-to-date!\n",
            "[nltk_data] Downloading package floresta to /root/nltk_data...\n",
            "[nltk_data]   Package floresta is already up-to-date!\n"
          ]
        },
        {
          "output_type": "execute_result",
          "data": {
            "text/plain": [
              "True"
            ]
          },
          "metadata": {},
          "execution_count": 91
        }
      ]
    },
    {
      "cell_type": "code",
      "source": [
        "from bs4 import BeautifulSoup\n",
        "import re\n",
        "from nltk.corpus import stopwords\n",
        "from nltk.tokenize import word_tokenize\n",
        "from nltk.stem import WordNetLemmatizer\n",
        "\n",
        "sw = set(stopwords.words(['english', 'french']))\n",
        "lemmatizer = WordNetLemmatizer()\n",
        "\n",
        "# Function to preprocess text\n",
        "def processing_text(row):\n",
        "\n",
        "    soup = BeautifulSoup(row, 'html.parser')   # Remove HTML tags using BeautifulSoup\n",
        "    cleaned_text = soup.get_text()\n",
        "\n",
        "\n",
        "    cleaned_text = re.sub(r\"[^a-zA-ZÀ-ÿàâçéèêëîïôûùüÿœ\\s]\", \"\", cleaned_text)  # Remove special characters and non-alphanumeric characters\n",
        "\n",
        "\n",
        "    tokens = word_tokenize(cleaned_text) # Tokenize the cleaned text\n",
        "\n",
        "\n",
        "    stop_words_removed = [word for word in tokens if word.lower() not in sw and len(word) > 2] # Remove stopwords and filter words that 2 letters or less.\n",
        "\n",
        "    # Lemmatize and convert to lowercase\n",
        "    filtered_text = [lemmatizer.lemmatize(word).lower() for word in stop_words_removed]\n",
        "     # return filtered_text\n",
        "    return ' '.join(filtered_text)\n",
        "\n"
      ],
      "metadata": {
        "id": "60sh2bH2ldVD"
      },
      "execution_count": null,
      "outputs": []
    },
    {
      "cell_type": "code",
      "source": [
        "df.shape"
      ],
      "metadata": {
        "colab": {
          "base_uri": "https://localhost:8080/"
        },
        "id": "Fbq4nvdTldXy",
        "outputId": "1064e0d8-c787-4222-fbb5-2cd0937bf168"
      },
      "execution_count": null,
      "outputs": [
        {
          "output_type": "execute_result",
          "data": {
            "text/plain": [
              "(84916, 4)"
            ]
          },
          "metadata": {},
          "execution_count": 93
        }
      ]
    },
    {
      "cell_type": "code",
      "source": [
        "X = df.merged_text\n",
        "y = df.product_class"
      ],
      "metadata": {
        "id": "1Z9g1eYulday"
      },
      "execution_count": null,
      "outputs": []
    },
    {
      "cell_type": "code",
      "source": [
        "from sklearn.preprocessing import LabelEncoder\n",
        "\n",
        "# Create a LabelEncoder instance\n",
        "label_encoder = LabelEncoder()\n",
        "\n",
        "# Fit the label encoder on your target labels and transform them\n",
        "y_le = label_encoder.fit_transform(y)"
      ],
      "metadata": {
        "id": "0s7KUdGHm4x-"
      },
      "execution_count": null,
      "outputs": []
    },
    {
      "cell_type": "code",
      "source": [
        "from sklearn.model_selection import train_test_split\n",
        "X_train, X_test, y_train, y_test = train_test_split(X, y_le, test_size=0.2, random_state=1234)"
      ],
      "metadata": {
        "id": "Wng7T63km1hY"
      },
      "execution_count": null,
      "outputs": []
    },
    {
      "cell_type": "code",
      "source": [
        "X_train.shape, X_test.shape, y_train.shape, y_test.shape"
      ],
      "metadata": {
        "colab": {
          "base_uri": "https://localhost:8080/"
        },
        "id": "w4aUC0hmeOUy",
        "outputId": "3afc3cec-64f8-4906-e79a-ccb4ca00de0f"
      },
      "execution_count": null,
      "outputs": [
        {
          "output_type": "execute_result",
          "data": {
            "text/plain": [
              "((67932,), (16984,), (67932,), (16984,))"
            ]
          },
          "metadata": {},
          "execution_count": 97
        }
      ]
    },
    {
      "cell_type": "code",
      "source": [
        "\n",
        "X_train = X_train.apply(processing_text)\n",
        "X_test = X_test.apply(processing_text)"
      ],
      "metadata": {
        "colab": {
          "base_uri": "https://localhost:8080/"
        },
        "id": "lZj7WxHXlddR",
        "outputId": "fa1506da-2492-4ebe-ff1e-79f25592795e"
      },
      "execution_count": null,
      "outputs": [
        {
          "output_type": "stream",
          "name": "stderr",
          "text": [
            "<ipython-input-92-f5d99f5e691c>:13: MarkupResemblesLocatorWarning: The input looks more like a filename than markup. You may want to open this file and pass the filehandle into Beautiful Soup.\n",
            "  soup = BeautifulSoup(row, 'html.parser')   # Remove HTML tags using BeautifulSoup\n"
          ]
        }
      ]
    },
    {
      "cell_type": "code",
      "source": [
        "# Tokenize the text data\n",
        "tokenizer = Tokenizer()\n",
        "tokenizer.fit_on_texts(X_train)"
      ],
      "metadata": {
        "id": "m9ap1ND6ldgI"
      },
      "execution_count": null,
      "outputs": []
    },
    {
      "cell_type": "code",
      "source": [
        "vocab_size = len(tokenizer.word_index) + 1"
      ],
      "metadata": {
        "id": "EJfJb2vIfX-8"
      },
      "execution_count": null,
      "outputs": []
    },
    {
      "cell_type": "code",
      "source": [
        "sentences = [sentence.split() for sentence in X_train]\n",
        "\n",
        "w2v_model = Word2Vec(sentences, vector_size=100, window=5, min_count=5, workers=4)"
      ],
      "metadata": {
        "id": "re0GZEnafahm"
      },
      "execution_count": null,
      "outputs": []
    },
    {
      "cell_type": "code",
      "source": [
        "word_list = list(w2v_model.wv.index_to_key)"
      ],
      "metadata": {
        "id": "BUUEYpjWhoM7"
      },
      "execution_count": null,
      "outputs": []
    },
    {
      "cell_type": "code",
      "source": [
        "# Create a weight matrix for the embedding layer\n",
        "embedding_matrix = np.zeros((vocab_size, 100))\n",
        "for word, i in tokenizer.word_index.items():\n",
        "    if word in w2v_model.wv:\n",
        "        embedding_matrix[i] = w2v_model.wv[word]"
      ],
      "metadata": {
        "id": "NIMBTh7ZlduZ"
      },
      "execution_count": null,
      "outputs": []
    },
    {
      "cell_type": "code",
      "source": [
        "X_train = tokenizer.texts_to_sequences(X_train)\n",
        "X_test = tokenizer.texts_to_sequences(X_test)"
      ],
      "metadata": {
        "id": "T6CGYiAqixoY"
      },
      "execution_count": null,
      "outputs": []
    },
    {
      "cell_type": "code",
      "source": [
        "max_length = 100\n",
        "X_train = pad_sequences(X_train, maxlen=max_length, padding='post')\n",
        "X_test = pad_sequences(X_test, maxlen=max_length, padding='post')"
      ],
      "metadata": {
        "id": "akYbGd3UXeE1"
      },
      "execution_count": null,
      "outputs": []
    },
    {
      "cell_type": "code",
      "source": [
        "import numpy as np\n",
        "\n",
        "# Save the processed data to files\n",
        "np.save(\"X_train_text.npy\", X_train)\n",
        "np.save(\"X_test_text.npy\", X_test)\n",
        "np.save(\"y_train.npy\", y_train)\n",
        "np.save(\"y_test.npy\", y_test)\n"
      ],
      "metadata": {
        "id": "m0MBhKO0DuhO"
      },
      "execution_count": null,
      "outputs": []
    },
    {
      "cell_type": "code",
      "source": [
        "import shutil\n",
        "\n",
        "# Source directory where you saved the processed data\n",
        "source_dir = '/content/'\n",
        "\n",
        "# Destination directory in your Google Drive\n",
        "destination_dir = '/content/drive/MyDrive/new_rakuten'\n",
        "\n",
        "# Copy the files to Google Drive\n",
        "shutil.copy(source_dir + 'X_train_image.npy', destination_dir)\n",
        "shutil.copy(source_dir + 'X_test_image.npy', destination_dir)\n",
        "shutil.copy(source_dir + 'y_train.npy', destination_dir)\n",
        "shutil.copy(source_dir + 'y_test.npy', destination_dir)"
      ],
      "metadata": {
        "id": "onwdnqb7XfMp"
      },
      "execution_count": null,
      "outputs": []
    },
    {
      "cell_type": "code",
      "source": [],
      "metadata": {
        "id": "o9ac6xh_XfJP"
      },
      "execution_count": null,
      "outputs": []
    },
    {
      "cell_type": "code",
      "source": [],
      "metadata": {
        "id": "Rn7aFsIJXfDi"
      },
      "execution_count": null,
      "outputs": []
    },
    {
      "cell_type": "code",
      "source": [
        "# Define the CNN model\n",
        "word2vec_model = Sequential()\n",
        "word2vec_model.add(Embedding(vocab_size, 100, weights=[embedding_matrix], input_length=max_length, trainable=False))\n",
        "word2vec_model.add(Conv1D(128, 5, activation='relu'))\n",
        "word2vec_model.add(MaxPooling1D(5))\n",
        "word2vec_model.add(Conv1D(128, 5, activation='relu'))\n",
        "word2vec_model.add(MaxPooling1D(5))\n",
        "\n",
        "word2vec_model.add(Flatten())\n",
        "word2vec_model.add(Dense(128, activation='relu'))\n",
        "word2vec_model.add(Dropout(0.5))\n",
        "word2vec_model.add(Dense(64, activation = 'relu'))\n",
        "\n",
        "word2vec_model.add(Dense(27, activation='softmax'))"
      ],
      "metadata": {
        "id": "n2LEI9rJldxM"
      },
      "execution_count": null,
      "outputs": []
    },
    {
      "cell_type": "code",
      "source": [
        "word2vec_model.compile(optimizer='adam', loss='sparse_categorical_crossentropy', metrics=['accuracy'])"
      ],
      "metadata": {
        "id": "KHdup2cUld0L"
      },
      "execution_count": null,
      "outputs": []
    },
    {
      "cell_type": "code",
      "source": [
        "word2vec_model.summary()"
      ],
      "metadata": {
        "colab": {
          "base_uri": "https://localhost:8080/"
        },
        "id": "BmqEFYchpxg4",
        "outputId": "e5e05725-a10f-4029-cb31-748cfe0e2d55"
      },
      "execution_count": null,
      "outputs": [
        {
          "output_type": "stream",
          "name": "stdout",
          "text": [
            "Model: \"sequential_9\"\n",
            "_________________________________________________________________\n",
            " Layer (type)                Output Shape              Param #   \n",
            "=================================================================\n",
            " embedding_7 (Embedding)     (None, 100, 100)          16747800  \n",
            "                                                                 \n",
            " conv1d_14 (Conv1D)          (None, 96, 128)           64128     \n",
            "                                                                 \n",
            " max_pooling1d_14 (MaxPooli  (None, 19, 128)           0         \n",
            " ng1D)                                                           \n",
            "                                                                 \n",
            " conv1d_15 (Conv1D)          (None, 15, 128)           82048     \n",
            "                                                                 \n",
            " max_pooling1d_15 (MaxPooli  (None, 3, 128)            0         \n",
            " ng1D)                                                           \n",
            "                                                                 \n",
            " flatten_7 (Flatten)         (None, 384)               0         \n",
            "                                                                 \n",
            " dense_19 (Dense)            (None, 128)               49280     \n",
            "                                                                 \n",
            " dropout_6 (Dropout)         (None, 128)               0         \n",
            "                                                                 \n",
            " dense_20 (Dense)            (None, 64)                8256      \n",
            "                                                                 \n",
            " dense_21 (Dense)            (None, 27)                1755      \n",
            "                                                                 \n",
            "=================================================================\n",
            "Total params: 16953267 (64.67 MB)\n",
            "Trainable params: 205467 (802.61 KB)\n",
            "Non-trainable params: 16747800 (63.89 MB)\n",
            "_________________________________________________________________\n"
          ]
        }
      ]
    },
    {
      "cell_type": "code",
      "source": [
        "histrory = word2vec_model.fit(X_train, y_train, epochs=10, batch_size=32, validation_data=(X_test, y_test))"
      ],
      "metadata": {
        "colab": {
          "base_uri": "https://localhost:8080/"
        },
        "id": "B58z-RO_ld3E",
        "outputId": "e3793af0-8100-4001-8e9c-4e11b2d3de04"
      },
      "execution_count": null,
      "outputs": [
        {
          "output_type": "stream",
          "name": "stdout",
          "text": [
            "Epoch 1/10\n",
            "2123/2123 [==============================] - 91s 43ms/step - loss: 1.4963 - accuracy: 0.5572 - val_loss: 1.0946 - val_accuracy: 0.6767\n",
            "Epoch 2/10\n",
            "2123/2123 [==============================] - 79s 37ms/step - loss: 1.1017 - accuracy: 0.6731 - val_loss: 1.0281 - val_accuracy: 0.6919\n",
            "Epoch 3/10\n",
            "2123/2123 [==============================] - 83s 39ms/step - loss: 0.9855 - accuracy: 0.7041 - val_loss: 0.9914 - val_accuracy: 0.7024\n",
            "Epoch 4/10\n",
            "2123/2123 [==============================] - 83s 39ms/step - loss: 0.9089 - accuracy: 0.7238 - val_loss: 0.9870 - val_accuracy: 0.7060\n",
            "Epoch 5/10\n",
            "2123/2123 [==============================] - 77s 36ms/step - loss: 0.8499 - accuracy: 0.7416 - val_loss: 0.9512 - val_accuracy: 0.7150\n",
            "Epoch 6/10\n",
            "2123/2123 [==============================] - 78s 37ms/step - loss: 0.8043 - accuracy: 0.7522 - val_loss: 0.9882 - val_accuracy: 0.7123\n",
            "Epoch 7/10\n",
            "2123/2123 [==============================] - 78s 37ms/step - loss: 0.7639 - accuracy: 0.7651 - val_loss: 0.9618 - val_accuracy: 0.7206\n",
            "Epoch 8/10\n",
            "2123/2123 [==============================] - 78s 37ms/step - loss: 0.7293 - accuracy: 0.7743 - val_loss: 0.9906 - val_accuracy: 0.7188\n",
            "Epoch 9/10\n",
            "2123/2123 [==============================] - 81s 38ms/step - loss: 0.7012 - accuracy: 0.7828 - val_loss: 0.9732 - val_accuracy: 0.7206\n",
            "Epoch 10/10\n",
            "2123/2123 [==============================] - 81s 38ms/step - loss: 0.6779 - accuracy: 0.7902 - val_loss: 1.0145 - val_accuracy: 0.7185\n"
          ]
        }
      ]
    },
    {
      "cell_type": "code",
      "source": [
        "from tensorflow.keras.models import Model\n",
        "word2vec_model.save('best_word2vec_nn_model.h5')"
      ],
      "metadata": {
        "colab": {
          "base_uri": "https://localhost:8080/"
        },
        "id": "kkgTFTG8mwHR",
        "outputId": "2f45bc5e-ea28-4e25-c081-d712d3ffa2e1"
      },
      "execution_count": null,
      "outputs": [
        {
          "output_type": "stream",
          "name": "stderr",
          "text": [
            "/usr/local/lib/python3.10/dist-packages/keras/src/engine/training.py:3000: UserWarning: You are saving your model as an HDF5 file via `model.save()`. This file format is considered legacy. We recommend using instead the native Keras format, e.g. `model.save('my_model.keras')`.\n",
            "  saving_api.save_model(\n"
          ]
        }
      ]
    },
    {
      "cell_type": "code",
      "source": [
        "import matplotlib.pyplot as plt\n",
        "# Plot training & validation accuracy values\n",
        "plt.figure(figsize=(10, 5))\n",
        "plt.plot(histrory.history['accuracy'])\n",
        "plt.plot(histrory.history['val_accuracy'])\n",
        "plt.title('Model Accuracy')\n",
        "plt.xlabel('Epoch')\n",
        "plt.ylabel('Accuracy')\n",
        "plt.legend(['Train', 'Validation'], loc='upper left')\n",
        "plt.show()"
      ],
      "metadata": {
        "colab": {
          "base_uri": "https://localhost:8080/",
          "height": 487
        },
        "id": "hYT7885-mwEV",
        "outputId": "cd04b80b-572b-4fbe-dd82-2591e175aab1"
      },
      "execution_count": null,
      "outputs": [
        {
          "output_type": "display_data",
          "data": {
            "text/plain": [
              "<Figure size 1000x500 with 1 Axes>"
            ],
            "image/png": "[encoded data removed]"
          },
          "metadata": {}
        }
      ]
    },
    {
      "cell_type": "code",
      "source": [
        "# Plot training & validation loss values\n",
        "plt.figure(figsize=(10, 5))\n",
        "plt.plot(histrory.history['loss'])\n",
        "plt.plot(histrory.history['val_loss'])\n",
        "plt.title('Model Loss')\n",
        "plt.xlabel('Epoch')\n",
        "plt.ylabel('Loss')\n",
        "plt.legend(['Train', 'Validation'], loc='upper right')\n",
        "plt.show()"
      ],
      "metadata": {
        "colab": {
          "base_uri": "https://localhost:8080/",
          "height": 487
        },
        "id": "iblnC5lImwBQ",
        "outputId": "3539b8a8-e286-4e8d-97a1-71ad676fd926"
      },
      "execution_count": null,
      "outputs": [
        {
          "output_type": "display_data",
          "data": {
            "text/plain": [
              "<Figure size 1000x500 with 1 Axes>"
            ],
            "image/png": "[encoded data removed]"
          },
          "metadata": {}
        }
      ]
    },
    {
      "cell_type": "code",
      "source": [
        "import joblib\n",
        "\n",
        "# Save the Word2Vec model\n",
        "joblib.dump(w2v_model, \"word2vec_model.pkl\")\n",
        "\n",
        "# Load the Word2Vec model\n",
        "# loaded_model = joblib.load(\"word2vec_model.pkl\")"
      ],
      "metadata": {
        "colab": {
          "base_uri": "https://localhost:8080/"
        },
        "id": "JRnJ5jR9mv-g",
        "outputId": "b0aebbad-9f97-4eb7-c797-d7d5c80d21a8"
      },
      "execution_count": null,
      "outputs": [
        {
          "output_type": "execute_result",
          "data": {
            "text/plain": [
              "['word2vec_model.pkl']"
            ]
          },
          "metadata": {},
          "execution_count": 125
        }
      ]
    },
    {
      "cell_type": "code",
      "source": [
        "import joblib\n",
        "\n",
        "# Save the fitted tokenizer\n",
        "joblib.dump(tokenizer, \"w2v_tokenizer.pkl\")\n",
        "\n",
        "# Load the fitted tokenizer\n",
        "# loaded_tokenizer = joblib.load(\"w2v_tokenizer.pkl\")"
      ],
      "metadata": {
        "colab": {
          "base_uri": "https://localhost:8080/"
        },
        "id": "FMkIHth_mv2M",
        "outputId": "a8b3e0b2-dee2-4f8a-aec4-28a68f10dcec"
      },
      "execution_count": null,
      "outputs": [
        {
          "output_type": "execute_result",
          "data": {
            "text/plain": [
              "['w2v_tokenizer.pkl']"
            ]
          },
          "metadata": {},
          "execution_count": 126
        }
      ]
    },
    {
      "cell_type": "code",
      "source": [
        "# Define the CNN model\n",
        "word2vec_model = Sequential()\n",
        "word2vec_model.add(Embedding(vocab_size, 100, weights=[embedding_matrix], input_length=max_length, trainable=False))\n",
        "word2vec_model.add(Conv1D(128, 5, activation='relu'))\n",
        "word2vec_model.add(MaxPooling1D(5))\n",
        "word2vec_model.add(Conv1D(128, 5, activation='relu'))\n",
        "word2vec_model.add(MaxPooling1D(5))\n",
        "\n",
        "word2vec_model.add(Flatten())\n",
        "word2vec_model.add(Dense(128, activation='relu'))\n",
        "word2vec_model.add(Dropout(0.5))\n",
        "word2vec_model.add(Dense(64, activation = 'relu'))\n",
        "\n",
        "word2vec_model.add(Dense(27, activation='softmax'))"
      ],
      "metadata": {
        "id": "1-zVf59rld57"
      },
      "execution_count": null,
      "outputs": []
    },
    {
      "cell_type": "code",
      "source": [
        "word2vec_model.compile(optimizer='adam', loss='sparse_categorical_crossentropy', metrics=['accuracy'])"
      ],
      "metadata": {
        "id": "nq-yu5Wlld8z"
      },
      "execution_count": null,
      "outputs": []
    },
    {
      "cell_type": "code",
      "source": [
        "word2vec_model.summary()"
      ],
      "metadata": {
        "colab": {
          "base_uri": "https://localhost:8080/"
        },
        "id": "lixfjbGptQMm",
        "outputId": "c084f5df-5007-4ab3-f0f5-1dff7aadfcd9"
      },
      "execution_count": null,
      "outputs": [
        {
          "output_type": "stream",
          "name": "stdout",
          "text": [
            "Model: \"sequential_17\"\n",
            "_________________________________________________________________\n",
            " Layer (type)                Output Shape              Param #   \n",
            "=================================================================\n",
            " embedding_17 (Embedding)    (None, 100, 100)          16747800  \n",
            "                                                                 \n",
            " conv1d_27 (Conv1D)          (None, 96, 128)           64128     \n",
            "                                                                 \n",
            " max_pooling1d_26 (MaxPooli  (None, 19, 128)           0         \n",
            " ng1D)                                                           \n",
            "                                                                 \n",
            " conv1d_28 (Conv1D)          (None, 15, 128)           82048     \n",
            "                                                                 \n",
            " max_pooling1d_27 (MaxPooli  (None, 3, 128)            0         \n",
            " ng1D)                                                           \n",
            "                                                                 \n",
            " flatten_12 (Flatten)        (None, 384)               0         \n",
            "                                                                 \n",
            " dense_41 (Dense)            (None, 128)               49280     \n",
            "                                                                 \n",
            " dropout_22 (Dropout)        (None, 128)               0         \n",
            "                                                                 \n",
            " dense_42 (Dense)            (None, 64)                8256      \n",
            "                                                                 \n",
            " dense_43 (Dense)            (None, 27)                1755      \n",
            "                                                                 \n",
            "=================================================================\n",
            "Total params: 16953267 (64.67 MB)\n",
            "Trainable params: 205467 (802.61 KB)\n",
            "Non-trainable params: 16747800 (63.89 MB)\n",
            "_________________________________________________________________\n"
          ]
        }
      ]
    },
    {
      "cell_type": "code",
      "source": [
        "from tensorflow.keras.utils import plot_model\n",
        "\n",
        "# Assuming 'image_model' is your Keras model\n",
        "plot_model(word2vec_model, to_file='image_model.png', show_shapes=True)"
      ],
      "metadata": {
        "id": "3-k8IO71AKHf"
      },
      "execution_count": null,
      "outputs": []
    },
    {
      "cell_type": "code",
      "source": [
        "word2vec_model.fit(X_train, y_train, epochs=10, batch_size=32, validation_data=(X_test, y_test))"
      ],
      "metadata": {
        "colab": {
          "base_uri": "https://localhost:8080/"
        },
        "id": "q6qFm0nbld_a",
        "outputId": "e2d88c39-87b0-40f5-96d1-803a7d01a579"
      },
      "execution_count": null,
      "outputs": [
        {
          "output_type": "stream",
          "name": "stdout",
          "text": [
            "Epoch 1/10\n",
            "2123/2123 [==============================] - 50s 23ms/step - loss: 1.5026 - accuracy: 0.5560 - val_loss: 1.0791 - val_accuracy: 0.6756\n",
            "Epoch 2/10\n",
            "2123/2123 [==============================] - 48s 23ms/step - loss: 1.0990 - accuracy: 0.6726 - val_loss: 1.0376 - val_accuracy: 0.6909\n",
            "Epoch 3/10\n",
            "2123/2123 [==============================] - 48s 23ms/step - loss: 0.9865 - accuracy: 0.7054 - val_loss: 0.9799 - val_accuracy: 0.7051\n",
            "Epoch 4/10\n",
            "2123/2123 [==============================] - 49s 23ms/step - loss: 0.9097 - accuracy: 0.7277 - val_loss: 0.9691 - val_accuracy: 0.7160\n",
            "Epoch 5/10\n",
            "2123/2123 [==============================] - 48s 23ms/step - loss: 0.8524 - accuracy: 0.7414 - val_loss: 0.9517 - val_accuracy: 0.7193\n",
            "Epoch 6/10\n",
            "2123/2123 [==============================] - 48s 23ms/step - loss: 0.8047 - accuracy: 0.7539 - val_loss: 0.9489 - val_accuracy: 0.7228\n",
            "Epoch 7/10\n",
            "2123/2123 [==============================] - 49s 23ms/step - loss: 0.7658 - accuracy: 0.7656 - val_loss: 0.9766 - val_accuracy: 0.7183\n",
            "Epoch 8/10\n",
            "2123/2123 [==============================] - 48s 23ms/step - loss: 0.7294 - accuracy: 0.7745 - val_loss: 0.9733 - val_accuracy: 0.7214\n",
            "Epoch 9/10\n",
            "2123/2123 [==============================] - 49s 23ms/step - loss: 0.7005 - accuracy: 0.7819 - val_loss: 0.9932 - val_accuracy: 0.7235\n",
            "Epoch 10/10\n",
            "2123/2123 [==============================] - 48s 23ms/step - loss: 0.6773 - accuracy: 0.7888 - val_loss: 0.9823 - val_accuracy: 0.7273\n"
          ]
        },
        {
          "output_type": "execute_result",
          "data": {
            "text/plain": [
              "<keras.src.callbacks.History at 0x7bdf1d107520>"
            ]
          },
          "metadata": {},
          "execution_count": 148
        }
      ]
    },
    {
      "cell_type": "code",
      "source": [
        "import matplotlib.pyplot as plt\n",
        "# Plot training & validation accuracy values\n",
        "plt.figure(figsize=(10, 5))\n",
        "plt.plot(history.history['accuracy'])\n",
        "plt.plot(history.history['val_accuracy'])\n",
        "plt.title('Model Accuracy')\n",
        "plt.xlabel('Epoch')\n",
        "plt.ylabel('Accuracy')\n",
        "plt.legend(['Train', 'Validation'], loc='upper left')\n",
        "plt.show()"
      ],
      "metadata": {
        "colab": {
          "base_uri": "https://localhost:8080/",
          "height": 487
        },
        "id": "IGlstr3Kwlwr",
        "outputId": "ebddc240-a965-4417-91cf-aeceb8da4c10"
      },
      "execution_count": null,
      "outputs": [
        {
          "output_type": "display_data",
          "data": {
            "text/plain": [
              "<Figure size 1000x500 with 1 Axes>"
            ],
            "image/png": "[encoded data removed]"
          },
          "metadata": {}
        }
      ]
    },
    {
      "cell_type": "code",
      "source": [
        "# Plot training & validation loss values\n",
        "plt.figure(figsize=(10, 5))\n",
        "plt.plot(history.history['loss'])\n",
        "plt.plot(history.history['val_loss'])\n",
        "plt.title('Model Loss')\n",
        "plt.xlabel('Epoch')\n",
        "plt.ylabel('Loss')\n",
        "plt.legend(['Train', 'Validation'], loc='upper right')\n",
        "plt.show()"
      ],
      "metadata": {
        "colab": {
          "base_uri": "https://localhost:8080/",
          "height": 487
        },
        "id": "5RzIQpaK-2Vb",
        "outputId": "5e2c65c8-c1cc-42c5-9480-e5a5f1bf582e"
      },
      "execution_count": null,
      "outputs": [
        {
          "output_type": "display_data",
          "data": {
            "text/plain": [
              "<Figure size 1000x500 with 1 Axes>"
            ],
            "image/png": "[encoded data removed]"
          },
          "metadata": {}
        }
      ]
    },
    {
      "cell_type": "code",
      "source": [
        "from tensorflow.keras.models import Model\n",
        "word2vec_model.save('best_word2vec_nn_model.h5')"
      ],
      "metadata": {
        "colab": {
          "base_uri": "https://localhost:8080/"
        },
        "id": "gggvpLtyAajr",
        "outputId": "4e5caa76-580d-450e-abec-95a7e5e48344"
      },
      "execution_count": null,
      "outputs": [
        {
          "output_type": "stream",
          "name": "stderr",
          "text": [
            "/usr/local/lib/python3.10/dist-packages/keras/src/engine/training.py:3000: UserWarning: You are saving your model as an HDF5 file via `model.save()`. This file format is considered legacy. We recommend using instead the native Keras format, e.g. `model.save('my_model.keras')`.\n",
            "  saving_api.save_model(\n"
          ]
        }
      ]
    }
  ]
}